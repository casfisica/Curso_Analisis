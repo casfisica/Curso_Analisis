{
 "cells": [
  {
   "cell_type": "code",
   "execution_count": 1,
   "metadata": {},
   "outputs": [],
   "source": [
    "#include <iostream>\n",
    "#include <string>\n",
    "#include <math.h>       /* cosh, log */\n",
    "using namespace std;"
   ]
  },
  {
   "cell_type": "code",
   "execution_count": 2,
   "metadata": {},
   "outputs": [],
   "source": [
    "/*Cargo la librería de Delphes*/\n",
    "//gSystem->Load(\"/home/camilo/Proyectos/Delphes/delphes/libDelphes.so\");\n",
    "//gSystem->AddDynamicPath(\"/scratch/cms/Delphes/delphes/\");\n",
    "//gSystem->Load(\"libDelphes\");"
   ]
  },
  {
   "cell_type": "code",
   "execution_count": 3,
   "metadata": {},
   "outputs": [],
   "source": [
    "/*Instancio un objeto TChain*/\n",
    "TChain chain(\"Delphes\");"
   ]
  },
  {
   "cell_type": "code",
   "execution_count": 4,
   "metadata": {},
   "outputs": [],
   "source": [
    "/*Creo las variables necesarias para el for*/\n",
    "std::string nom1=\"/Storage/scratch/camilo/Proyectos/MadGraph/Datos/Signal_2j_mu-nu/Events/run_\";\n",
    "std::string nom2=\"/tag_1_delphes_events.root\";\n",
    "std::string num, out;"
   ]
  },
  {
   "cell_type": "code",
   "execution_count": 5,
   "metadata": {},
   "outputs": [],
   "source": [
    "/*Llenado del chain con todos los runs*/\n",
    "for (Int_t i=1; i<11; i=i+1 ) {\n",
    "   num = std::to_string(i);\n",
    "   if( i < 10 ) {\n",
    "       out= nom1+\"0\"+num+nom2;\n",
    "    }\n",
    "//convierto en cadena de caracteres constante (es lo que recibe la función)\n",
    "    const char * c = out.c_str();\n",
    "/*pego todos los datos*/\n",
    "    chain.Add(c);\n",
    "}"
   ]
  },
  {
   "cell_type": "code",
   "execution_count": 6,
   "metadata": {},
   "outputs": [
    {
     "name": "stderr",
     "output_type": "stream",
     "text": [
      "\u001b[1minput_line_38:4:36: \u001b[0m\u001b[0;1;31merror: \u001b[0m\u001b[1munknown type name 'ExRootTreeReader'\u001b[0m\n",
      "ExRootTreeReader *treeReader = new ExRootTreeReader(&chain);\n",
      "\u001b[0;1;32m                                   ^\n",
      "\u001b[0m"
     ]
    }
   ],
   "source": [
    "//Creo un objeto de treereader, que recive la dirección en memoria de\n",
    "//la cadena (TChain) como argumento\n",
    "ExRootTreeReader *treeReader = new ExRootTreeReader(&chain);"
   ]
  },
  {
   "cell_type": "code",
   "execution_count": 7,
   "metadata": {},
   "outputs": [
    {
     "name": "stderr",
     "output_type": "stream",
     "text": [
      "\u001b[1minput_line_40:2:3: \u001b[0m\u001b[0;1;31merror: \u001b[0m\u001b[1muse of undeclared identifier 'treeReader'\u001b[0m\n",
      " (treeReader->GetEntries())\n",
      "\u001b[0;1;32m  ^\n",
      "\u001b[0mError in <HandleInterpreterException>: Error evaluating expression (treeReader->GetEntries()).\n",
      "Execution of your code was aborted.\n"
     ]
    }
   ],
   "source": [
    "/*Leo el numero de entradas*/\n",
    "Long64_t numberOfEntries = treeReader->GetEntries()"
   ]
  },
  {
   "cell_type": "code",
   "execution_count": 8,
   "metadata": {},
   "outputs": [
    {
     "name": "stderr",
     "output_type": "stream",
     "text": [
      "\u001b[1minput_line_42:2:3: \u001b[0m\u001b[0;1;31merror: \u001b[0m\u001b[1muse of undeclared identifier 'treeReader'\u001b[0m\n",
      " (treeReader->UseBranch(\"Muon\"))\n",
      "\u001b[0;1;32m  ^\n",
      "\u001b[0mError in <HandleInterpreterException>: Error evaluating expression (treeReader->UseBranch(\"Muon\")).\n",
      "Execution of your code was aborted.\n"
     ]
    }
   ],
   "source": [
    "/*Obtengo las ramas que deseo*/\n",
    "TClonesArray *branchMuon = treeReader->UseBranch(\"Muon\");\n",
    "TClonesArray *branchMissingET = treeReader->UseBranch(\"MissingET\");\n",
    "TClonesArray *branchJet = treeReader->UseBranch(\"Jet\");"
   ]
  },
  {
   "cell_type": "code",
   "execution_count": 9,
   "metadata": {},
   "outputs": [],
   "source": [
    "// Inicializo los contadores\n",
    "Int_t cut1=0, cut2=0, cut3=0, cut4=0, cut5=0;"
   ]
  },
  {
   "cell_type": "code",
   "execution_count": 10,
   "metadata": {},
   "outputs": [
    {
     "name": "stderr",
     "output_type": "stream",
     "text": [
      "\u001b[1minput_line_44:16:33: \u001b[0m\u001b[0;1;31merror: \u001b[0m\u001b[1mexpected expression\u001b[0m\n",
      "                Jet* jet = (Jet*) branchJet->At(i);\n",
      "\u001b[0;1;32m                                ^\n",
      "\u001b[0m\u001b[1minput_line_44:17:20: \u001b[0m\u001b[0;1;31merror: \u001b[0m\u001b[1muse of undeclared identifier 'jet'\u001b[0m\n",
      "                if(jet->BTag>0)\n",
      "\u001b[0;1;32m                   ^\n",
      "\u001b[0m\u001b[1minput_line_44:28:17: \u001b[0m\u001b[0;1;31merror: \u001b[0m\u001b[1munknown type name 'Muon'\u001b[0m\n",
      "                Muon *muon1, *muon2;\n",
      "\u001b[0;1;32m                ^\n",
      "\u001b[0m\u001b[1minput_line_44:35:30: \u001b[0m\u001b[0;1;31merror: \u001b[0m\u001b[1muse of undeclared identifier 'Muon'\u001b[0m\n",
      "                    muon1 = (Muon *) branchMuon->At(0);\n",
      "\u001b[0;1;32m                             ^\n",
      "\u001b[0m\u001b[1minput_line_44:35:36: \u001b[0m\u001b[0;1;31merror: \u001b[0m\u001b[1mexpected expression\u001b[0m\n",
      "                    muon1 = (Muon *) branchMuon->At(0);\n",
      "\u001b[0;1;32m                                   ^\n",
      "\u001b[0m\u001b[1minput_line_44:36:21: \u001b[0m\u001b[0;1;31merror: \u001b[0m\u001b[1muse of undeclared identifier 'muon2'\u001b[0m\n",
      "                    muon2 = (Muon *) branchMuon->At(1);\n",
      "\u001b[0;1;32m                    ^\n",
      "\u001b[0m\u001b[1minput_line_44:36:30: \u001b[0m\u001b[0;1;31merror: \u001b[0m\u001b[1muse of undeclared identifier 'Muon'\u001b[0m\n",
      "                    muon2 = (Muon *) branchMuon->At(1);\n",
      "\u001b[0;1;32m                             ^\n",
      "\u001b[0m\u001b[1minput_line_44:36:36: \u001b[0m\u001b[0;1;31merror: \u001b[0m\u001b[1mexpected expression\u001b[0m\n",
      "                    muon2 = (Muon *) branchMuon->At(1);\n",
      "\u001b[0;1;32m                                   ^\n",
      "\u001b[0m\u001b[1minput_line_44:38:50: \u001b[0m\u001b[0;1;31merror: \u001b[0m\u001b[1muse of undeclared identifier 'muon2'\u001b[0m\n",
      "                    int charge = muon1->Charge * muon2->Charge;\n",
      "\u001b[0;1;32m                                                 ^\n",
      "\u001b[0m\u001b[1minput_line_44:43:54: \u001b[0m\u001b[0;1;31merror: \u001b[0m\u001b[1muse of undeclared identifier 'muon2'\u001b[0m\n",
      "                        double MassMuon=(muon1->P4()+muon2->P4()).M();\n",
      "\u001b[0;1;32m                                                     ^\n",
      "\u001b[0m"
     ]
    }
   ],
   "source": [
    "for(Int_t entry = 0; entry < numberOfEntries; ++entry)\n",
    "    {\n",
    "        // Se carga un evento espesifico para ser analizado\n",
    "        treeReader->ReadEntry(entry);\n",
    "\n",
    "        // Se hace el primer corte, se pide que tenga al menos dos jets\n",
    "        if(branchJet->GetEntries() > 1)\n",
    "        {\n",
    "            ++cut1; //Cuantos eventos pasan el corte 1\n",
    "            \n",
    "            Int_t count=0;\n",
    "            //Se cuentan los jets tageados como b\n",
    "            for (Int_t i=0; i<branchJet->GetEntries(); ++i)\n",
    "            {\n",
    "                Jet* jet = (Jet*) branchJet->At(i);\n",
    "                if(jet->BTag>0)\n",
    "                {\n",
    "                    ++count;\n",
    "                }\n",
    "    \n",
    "            }\n",
    "\n",
    "            if( count>1 )\n",
    "            {\n",
    "                ++cut2; //Cuantos eventos pasan el corte 2\n",
    "                //Inicializo los obejos clase muon\n",
    "                Muon *muon1, *muon2;\n",
    "\n",
    "                // Para ser contados deben de tener al menos 2 muones\n",
    "                if(branchMuon->GetEntries() > 1)\n",
    "                {\n",
    "                    ++cut3; //Cuantos eventos pasan el corte 3\n",
    "                    // Take first two electrons, tomo solo dos porque estan organizados por PT\n",
    "                    muon1 = (Muon *) branchMuon->At(0);\n",
    "                    muon2 = (Muon *) branchMuon->At(1);\n",
    "                    //Si la carga es diferente\n",
    "                    int charge = muon1->Charge * muon2->Charge;\n",
    "                    if( charge < 0 )\n",
    "                    {\n",
    "                        ++cut4; //Cuantos eventos pasan el corte 4\n",
    "                \n",
    "                        double MassMuon=(muon1->P4()+muon2->P4()).M();\n",
    "                        if( !((MassMuon>80)&&(MassMuon<100)) )\n",
    "                        {\n",
    "                            ++cut5; //Cuantos eventos pasan el corte 4\n",
    "                     \n",
    "                            \n",
    "                            // Plot jet transverse momentum\n",
    "                            //histJetPT->Fill(jet->PT);\n",
    "                            // Plot their invariant mass\n",
    "                            //histMass->Fill(((elec1->P4()) + (elec2->P4())).M());\n",
    "               \n",
    "                        \n",
    "                        \n",
    "                        }\n",
    "                    }\n",
    "                }\n",
    "            }\n",
    "        }\n",
    "    }"
   ]
  },
  {
   "cell_type": "code",
   "execution_count": 11,
   "metadata": {},
   "outputs": [
    {
     "name": "stdout",
     "output_type": "stream",
     "text": [
      "#Raw =0\n",
      "#Cut1=0\n",
      "#Cut2=0\n",
      "#Cut3=0\n",
      "#Cut4=0\n",
      "#Cut5=0\n",
      "\n",
      "EFFA1=-nan\n",
      "EFFA2=-nan\n",
      "EFFA3=-nan\n",
      "EFFA4=-nan\n",
      "EFFA5=-nan\n",
      "\n",
      "EFFN1=-nan\n",
      "EFFN2=-nan\n",
      "EFFN3=-nan\n",
      "EFFN4=-nan\n",
      "EFFN5=-nan\n"
     ]
    }
   ],
   "source": [
    "cout<<\"#Raw =\"<<numberOfEntries<<endl;\n",
    "cout<<\"#Cut1=\"<<cut1<<endl;\n",
    "cout<<\"#Cut2=\"<<cut2<<endl;\n",
    "cout<<\"#Cut3=\"<<cut3<<endl;\n",
    "cout<<\"#Cut4=\"<<cut4<<endl;\n",
    "cout<<\"#Cut5=\"<<cut5<<endl<<endl;\n",
    "\n",
    "\n",
    "float EFFN1=(float)cut1/(float)numberOfEntries;\n",
    "float EFFN2=(float)cut2/(float)cut1;\n",
    "float EFFN3=(float)cut3/(float)cut2;\n",
    "float EFFN4=(float)cut4/(float)cut3;\n",
    "float EFFN5=(float)cut5/(float)cut4;\n",
    "\n",
    "\n",
    "float EFFA1=(float)cut1/(float)numberOfEntries;\n",
    "float EFFA2=(float)cut2/(float)numberOfEntries;\n",
    "float EFFA3=(float)cut3/(float)numberOfEntries;\n",
    "float EFFA4=(float)cut4/(float)numberOfEntries;\n",
    "float EFFA5=(float)cut5/(float)numberOfEntries;\n",
    "\n",
    "cout<<\"EFFA1=\"<<EFFA1<<endl;\n",
    "cout<<\"EFFA2=\"<<EFFA2<<endl;\n",
    "cout<<\"EFFA3=\"<<EFFA3<<endl;\n",
    "cout<<\"EFFA4=\"<<EFFA4<<endl;\n",
    "cout<<\"EFFA5=\"<<EFFA5<<endl<<endl;\n",
    "\n",
    "\n",
    "cout<<\"EFFN1=\"<<EFFN1<<endl;\n",
    "cout<<\"EFFN2=\"<<EFFN2<<endl;\n",
    "cout<<\"EFFN3=\"<<EFFN3<<endl;\n",
    "cout<<\"EFFN4=\"<<EFFN4<<endl;\n",
    "cout<<\"EFFN5=\"<<EFFN5<<endl;"
   ]
  },
  {
   "cell_type": "code",
   "execution_count": 12,
   "metadata": {},
   "outputs": [
    {
     "name": "stderr",
     "output_type": "stream",
     "text": [
      "\u001b[1minput_line_46:2:8: \u001b[0m\u001b[0;1;31merror: \u001b[0m\u001b[1mexpected ';' after expression\u001b[0m\n",
      " 355148\n",
      "\u001b[0;1;32m       ^\n",
      "\u001b[0m\u001b[0;32m       ;\n",
      "\u001b[0m\u001b[1minput_line_46:3:7: \u001b[0m\u001b[0;1;31merror: \u001b[0m\u001b[1mexpected ';' after expression\u001b[0m\n",
      "341827\n",
      "\u001b[0;1;32m      ^\n",
      "\u001b[0m\u001b[0;32m      ;\n",
      "\u001b[0m\u001b[1minput_line_46:4:7: \u001b[0m\u001b[0;1;31merror: \u001b[0m\u001b[1mexpected ';' after expression\u001b[0m\n",
      "126190\n",
      "\u001b[0;1;32m      ^\n",
      "\u001b[0m\u001b[0;32m      ;\n",
      "\u001b[0m\u001b[1minput_line_46:5:6: \u001b[0m\u001b[0;1;31merror: \u001b[0m\u001b[1mexpected ';' after expression\u001b[0m\n",
      "55688\n",
      "\u001b[0;1;32m     ^\n",
      "\u001b[0m\u001b[0;32m     ;\n",
      "\u001b[0m\u001b[1minput_line_46:6:6: \u001b[0m\u001b[0;1;31merror: \u001b[0m\u001b[1mexpected ';' after expression\u001b[0m\n",
      "55687\n",
      "\u001b[0;1;32m     ^\n",
      "\u001b[0m\u001b[0;32m     ;\n",
      "\u001b[0m"
     ]
    }
   ],
   "source": [
    "355148\n",
    "341827\n",
    "126190\n",
    "55688\n",
    "55687\n",
    "48077"
   ]
  }
 ],
 "metadata": {
  "kernelspec": {
   "display_name": "ROOT C++",
   "language": "c++",
   "name": "root"
  },
  "language_info": {
   "codemirror_mode": "text/x-c++src",
   "file_extension": ".C",
   "mimetype": " text/x-c++src",
   "name": "c++"
  }
 },
 "nbformat": 4,
 "nbformat_minor": 2
}
